{
 "cells": [
  {
   "cell_type": "code",
   "execution_count": 1,
   "id": "27e64ce1",
   "metadata": {},
   "outputs": [
    {
     "name": "stderr",
     "output_type": "stream",
     "text": [
      "C:\\Users\\14425\\Anaconda3\\lib\\site-packages\\dask\\config.py:168: YAMLLoadWarning: calling yaml.load() without Loader=... is deprecated, as the default Loader is unsafe. Please read https://msg.pyyaml.org/load for full details.\n",
      "  data = yaml.load(f.read()) or {}\n"
     ]
    }
   ],
   "source": [
    "import numpy as np\n",
    "from skimage.io import imread, imsave\n",
    "import pandas as pd"
   ]
  },
  {
   "cell_type": "code",
   "execution_count": 2,
   "id": "211d1730",
   "metadata": {},
   "outputs": [],
   "source": [
    "fault_samples = pd.read_csv('./data/fault_ts.csv', skiprows=1, header=None)\n",
    "norm_samples = pd.read_csv('./data/norm_ts.csv', skiprows=1, header=None)"
   ]
  },
  {
   "cell_type": "code",
   "execution_count": 3,
   "id": "7bbc912d",
   "metadata": {},
   "outputs": [],
   "source": [
    "fault_train = fault_samples[:2121]\n",
    "fault_test = fault_samples[2121:]\n",
    "norm_train = norm_samples[:4268]\n",
    "norm_test = norm_samples[4268:]"
   ]
  },
  {
   "cell_type": "code",
   "execution_count": 4,
   "id": "0345a31a",
   "metadata": {},
   "outputs": [
    {
     "data": {
      "text/plain": [
       "((2121, 41), (910, 41), (4268, 41), (1830, 41))"
      ]
     },
     "execution_count": 4,
     "metadata": {},
     "output_type": "execute_result"
    }
   ],
   "source": [
    "fault_train.shape, fault_test.shape, norm_train.shape, norm_test.shape"
   ]
  },
  {
   "cell_type": "code",
   "execution_count": 5,
   "id": "32754737",
   "metadata": {},
   "outputs": [],
   "source": [
    "train = pd.concat((fault_train, norm_train))\n",
    "test = pd.concat((fault_test, norm_test))"
   ]
  },
  {
   "cell_type": "code",
   "execution_count": 6,
   "id": "eaf3e5a4",
   "metadata": {},
   "outputs": [],
   "source": [
    "train.to_csv('./data/train_ts.csv', index=False)\n",
    "test.to_csv('./data/test_ts.csv', index=False)"
   ]
  },
  {
   "cell_type": "code",
   "execution_count": 2,
   "id": "fc3a077d",
   "metadata": {},
   "outputs": [],
   "source": [
    "fault_dir = np.zeros((3031, 2), dtype=object)"
   ]
  },
  {
   "cell_type": "code",
   "execution_count": 3,
   "id": "a8d6b7b9",
   "metadata": {},
   "outputs": [],
   "source": [
    "for i in range(3031):\n",
    "    fault_dir[i][0] = './data/fault/fault_%d.jpg' % i\n",
    "    fault_dir[i][1] = 0"
   ]
  },
  {
   "cell_type": "code",
   "execution_count": 4,
   "id": "4c95a91b",
   "metadata": {},
   "outputs": [
    {
     "data": {
      "text/plain": [
       "array(['./data/fault/fault_0.jpg', 0], dtype=object)"
      ]
     },
     "execution_count": 4,
     "metadata": {},
     "output_type": "execute_result"
    }
   ],
   "source": [
    "fault_dir[0]"
   ]
  },
  {
   "cell_type": "code",
   "execution_count": 5,
   "id": "9ece50ad",
   "metadata": {},
   "outputs": [],
   "source": [
    "norm_dir = np.zeros((6098, 2), dtype=object)\n",
    "for i in range(6098):\n",
    "    norm_dir[i][0] = './data/norm/norm_%d.jpg' % i\n",
    "    norm_dir[i][1] = 1"
   ]
  },
  {
   "cell_type": "code",
   "execution_count": 6,
   "id": "99a9d323",
   "metadata": {},
   "outputs": [
    {
     "data": {
      "text/plain": [
       "array(['./data/norm/norm_0.jpg', 1], dtype=object)"
      ]
     },
     "execution_count": 6,
     "metadata": {},
     "output_type": "execute_result"
    }
   ],
   "source": [
    "norm_dir[0]"
   ]
  },
  {
   "cell_type": "code",
   "execution_count": 9,
   "id": "abe07f51",
   "metadata": {},
   "outputs": [],
   "source": [
    "norm = pd.DataFrame(norm_dir)"
   ]
  },
  {
   "cell_type": "code",
   "execution_count": 11,
   "id": "ff5b8bda",
   "metadata": {},
   "outputs": [],
   "source": [
    "norm.to_csv('./data/norm.csv', index=False)"
   ]
  },
  {
   "cell_type": "code",
   "execution_count": 12,
   "id": "7e65435a",
   "metadata": {},
   "outputs": [],
   "source": [
    "fault = pd.DataFrame(fault_dir)\n",
    "fault.to_csv('./data/fault.csv', index=False)"
   ]
  },
  {
   "cell_type": "code",
   "execution_count": 25,
   "id": "696be112",
   "metadata": {},
   "outputs": [],
   "source": [
    "train_df = pd.read_csv('./data/train.csv', header=None, skiprows=1)"
   ]
  },
  {
   "cell_type": "code",
   "execution_count": 42,
   "id": "7d46d096",
   "metadata": {},
   "outputs": [],
   "source": [
    "path, label = train_df[0][0], train_df[1][0]"
   ]
  },
  {
   "cell_type": "code",
   "execution_count": 31,
   "id": "0ea30b74",
   "metadata": {},
   "outputs": [
    {
     "data": {
      "text/plain": [
       "array([-0.05363335, -0.14478874,  0.16440853,  0.08105384, -0.1321994 ,\n",
       "        0.04789562,  0.12714496, -0.02618026, -0.07624643,  0.050678  ,\n",
       "        0.0083962 ,  0.02592288,  0.05123357, -0.1230669 , -0.10586049,\n",
       "       -0.13554105,  0.10304739,  0.26067638, -0.09455176, -0.07231096,\n",
       "        0.05608153, -0.21565351, -0.03666176,  0.17120492, -0.10423703,\n",
       "        0.03844733,  0.31864774, -0.03023915, -0.24136658,  0.11874428,\n",
       "        0.06372124, -0.21384196, -0.02513064,  0.17305052, -0.02168953,\n",
       "       -0.00583502,  0.25276223, -0.14902066, -0.44265765,  0.33759567],\n",
       "      dtype=float32)"
      ]
     },
     "execution_count": 31,
     "metadata": {},
     "output_type": "execute_result"
    }
   ],
   "source": [
    "img = imread(path)\n"
   ]
  },
  {
   "cell_type": "code",
   "execution_count": 32,
   "id": "f528abd0",
   "metadata": {},
   "outputs": [],
   "source": [
    "img_n = (img - img.mean()) / img.max()"
   ]
  },
  {
   "cell_type": "code",
   "execution_count": 43,
   "id": "f9da0dad",
   "metadata": {},
   "outputs": [
    {
     "data": {
      "text/plain": [
       "0"
      ]
     },
     "execution_count": 43,
     "metadata": {},
     "output_type": "execute_result"
    }
   ],
   "source": [
    "label"
   ]
  },
  {
   "cell_type": "code",
   "execution_count": null,
   "id": "0142e92f",
   "metadata": {},
   "outputs": [],
   "source": []
  }
 ],
 "metadata": {
  "kernelspec": {
   "display_name": "Python 3",
   "language": "python",
   "name": "python3"
  },
  "language_info": {
   "codemirror_mode": {
    "name": "ipython",
    "version": 3
   },
   "file_extension": ".py",
   "mimetype": "text/x-python",
   "name": "python",
   "nbconvert_exporter": "python",
   "pygments_lexer": "ipython3",
   "version": "3.7.3"
  }
 },
 "nbformat": 4,
 "nbformat_minor": 5
}
