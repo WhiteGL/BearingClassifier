{
 "cells": [
  {
   "cell_type": "code",
   "execution_count": 1,
   "id": "2ddc0f8b",
   "metadata": {},
   "outputs": [],
   "source": [
    "import torch\n",
    "import pandas as pd\n",
    "import numpy as np"
   ]
  },
  {
   "cell_type": "code",
   "execution_count": 2,
   "id": "010f6041",
   "metadata": {},
   "outputs": [],
   "source": [
    "fault_file = './data/fault_data.csv'\n",
    "norm_file = './data/norm_data.csv'"
   ]
  },
  {
   "cell_type": "code",
   "execution_count": 5,
   "id": "92495659",
   "metadata": {},
   "outputs": [],
   "source": [
    "def get_dataset(file, col_name, time_window):\n",
    "    df = pd.read_csv(file)\n",
    "    df = df.filter([col_name], axis=1)\n",
    "    df.rename(columns={col_name: \"Value\"}, inplace=True)\n",
    "    n = (len(df) // time_window) * time_window\n",
    "    value = df.Value\n",
    "    arr = np.asarray([value[time_window*i:time_window*(i+1)] for i in range(n//time_window)], dtype=np.float32)\n",
    "    return arr"
   ]
  },
  {
   "cell_type": "code",
   "execution_count": 9,
   "id": "ba6caec8",
   "metadata": {},
   "outputs": [],
   "source": [
    "fault_data = get_dataset(fault_file, 'DE', 40)\n",
    "norm_data = get_dataset(norm_file, 'DE', 40)"
   ]
  },
  {
   "cell_type": "code",
   "execution_count": 12,
   "id": "8d8acd64",
   "metadata": {},
   "outputs": [],
   "source": [
    "fault_label = np.ones((fault_data.shape[0], 1))\n",
    "norm_label = np.zeros((norm_data.shape[0], 1))"
   ]
  },
  {
   "cell_type": "code",
   "execution_count": 14,
   "id": "d2ade505",
   "metadata": {},
   "outputs": [],
   "source": [
    "fault = np.hstack((fault_data, fault_label))\n",
    "norm = np.hstack((norm_data, norm_label))"
   ]
  },
  {
   "cell_type": "code",
   "execution_count": 16,
   "id": "5c53cbde",
   "metadata": {},
   "outputs": [],
   "source": [
    "fault_df = pd.DataFrame(fault)\n",
    "norm_df = pd.DataFrame(norm)"
   ]
  },
  {
   "cell_type": "code",
   "execution_count": 18,
   "id": "c9cfeb17",
   "metadata": {},
   "outputs": [],
   "source": [
    "fault_df.to_csv('./data/fault_ts.csv', index=False)\n",
    "norm_df.to_csv('./data/norm_ts.csv', index=False)"
   ]
  },
  {
   "cell_type": "code",
   "execution_count": 20,
   "id": "ada28069",
   "metadata": {},
   "outputs": [],
   "source": [
    "train = pd.read_csv('./data/train_ts.csv', header=None, skiprows=1)"
   ]
  },
  {
   "cell_type": "code",
   "execution_count": 30,
   "id": "aa12e293",
   "metadata": {},
   "outputs": [
    {
     "data": {
      "text/plain": [
       "array([ 0.44800001,  0.0162    , -0.0507    ,  0.29300001,  0.244     ,\n",
       "       -0.214     , -0.0258    ,  0.47299999,  0.28299999, -0.0301    ,\n",
       "        0.13      ,  0.0815    , -0.0447    , -0.121     , -0.336     ,\n",
       "       -0.20299999, -0.00926   ,  0.0388    , -0.0461    , -0.0752    ,\n",
       "        0.168     ,  0.30899999,  0.15099999,  0.0476    ,  0.0497    ,\n",
       "        0.0258    , -0.00633   , -0.04      ,  0.0426    ,  0.125     ,\n",
       "        0.0536    , -0.20200001, -0.082     ,  0.104     , -0.184     ,\n",
       "       -0.287     , -0.00877   ,  0.141     , -0.0149    ,  0.0854    ])"
      ]
     },
     "execution_count": 30,
     "metadata": {},
     "output_type": "execute_result"
    }
   ],
   "source": [
    "train.iloc[233,0:40].to_numpy()"
   ]
  },
  {
   "cell_type": "code",
   "execution_count": null,
   "id": "f0c2697c",
   "metadata": {},
   "outputs": [],
   "source": []
  }
 ],
 "metadata": {
  "kernelspec": {
   "display_name": "Python 3",
   "language": "python",
   "name": "python3"
  },
  "language_info": {
   "codemirror_mode": {
    "name": "ipython",
    "version": 3
   },
   "file_extension": ".py",
   "mimetype": "text/x-python",
   "name": "python",
   "nbconvert_exporter": "python",
   "pygments_lexer": "ipython3",
   "version": "3.7.3"
  }
 },
 "nbformat": 4,
 "nbformat_minor": 5
}
